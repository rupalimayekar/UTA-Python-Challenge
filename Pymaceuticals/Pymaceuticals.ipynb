{
 "cells": [
  {
   "cell_type": "markdown",
   "metadata": {},
   "source": [
    "# Pymaceuticals Analysis\n",
    "\n",
    "## Overview and Objective\n",
    "\n",
    "Pymaceuticals Inc. is a burgeoning pharmaceutical company based out of San Diego, CA. Pymaceuticals specializes in drug-based, anti-cancer pharmaceuticals. In their most recent efforts, they've since begun screening for potential treatments to squamous cell carcinoma (SCC), a commonly occurring form of skin cancer.\n",
    "\n",
    "We have been given access to the complete data from their most recent animal study. In this study, 250 mice were treated through a variety of drug regimes over the course of 45 days. Their physiological responses were then monitored over the course of that time. \n",
    "\n",
    "Our objective is to analyze the data to show how four treatments (Capomulin, Infubinol, Ketapril, and Placebo) compare.\n",
    "\n",
    "As part of the analysis we need to do the following:\n",
    "* Create a scatter plot that shows how the tumor volume changes over time for each treatment.\n",
    "* Create a scatter plot that shows how the number of metastatic (cancer spreading) sites changes over time for each treatment.\n",
    "* Create a scatter plot that shows the number of mice still alive through the course of treatment (Survival Rate)\n",
    "* Create a bar graph that compares the total % tumor volume change for each drug across the full 45 days.\n",
    "\n",
    "\n",
    "## Observations:\n",
    "\n",
    "Amongst the 4 drugs in question - Capomulin, Infubinol, Ketapril, and Placebo, Capomulin seems to give better results than the other three. \n",
    "\n",
    "### Observed Trend 1\n",
    "The Tumor Volume decreases over time with the use of the drug Capomulin. The Tumor Volume increases over time for the other three drugs - Infubinol, Ketapril, and Placebo\n",
    "\n",
    "### Observed Trend 2\n",
    "The rate of increase of Metastatic sites in lowest with the use of Capomulin and highest with Placebo.\n",
    "\n",
    "### Observed Trend 3\n",
    "The survival rate of mice is higher in those treated with Capomulin and was lower in those treated with Infubinol, Ketapril, and Placebo"
   ]
  },
  {
   "cell_type": "code",
   "execution_count": 320,
   "metadata": {
    "collapsed": true
   },
   "outputs": [],
   "source": [
    "import pandas as pd\n",
    "import matplotlib.pyplot as plt\n",
    "import matplotlib as mpl\n",
    "import seaborn as sns\n",
    "import numpy as np\n",
    "from scipy.stats import sem\n",
    "import warnings"
   ]
  },
  {
   "cell_type": "code",
   "execution_count": 298,
   "metadata": {
    "collapsed": true
   },
   "outputs": [],
   "source": [
    "trial_df = pd.read_csv('raw_data/clinicaltrial_data.csv')\n",
    "mouse_df = pd.read_csv('raw_data/mouse_drug_data.csv')"
   ]
  },
  {
   "cell_type": "code",
   "execution_count": 299,
   "metadata": {},
   "outputs": [
    {
     "data": {
      "text/html": [
       "<div>\n",
       "<style>\n",
       "    .dataframe thead tr:only-child th {\n",
       "        text-align: right;\n",
       "    }\n",
       "\n",
       "    .dataframe thead th {\n",
       "        text-align: left;\n",
       "    }\n",
       "\n",
       "    .dataframe tbody tr th {\n",
       "        vertical-align: top;\n",
       "    }\n",
       "</style>\n",
       "<table border=\"1\" class=\"dataframe\">\n",
       "  <thead>\n",
       "    <tr style=\"text-align: right;\">\n",
       "      <th></th>\n",
       "      <th>Mouse ID</th>\n",
       "      <th>Timepoint</th>\n",
       "      <th>Tumor Volume (mm3)</th>\n",
       "      <th>Metastatic Sites</th>\n",
       "    </tr>\n",
       "  </thead>\n",
       "  <tbody>\n",
       "    <tr>\n",
       "      <th>0</th>\n",
       "      <td>b128</td>\n",
       "      <td>0</td>\n",
       "      <td>45.0</td>\n",
       "      <td>0</td>\n",
       "    </tr>\n",
       "    <tr>\n",
       "      <th>1</th>\n",
       "      <td>f932</td>\n",
       "      <td>0</td>\n",
       "      <td>45.0</td>\n",
       "      <td>0</td>\n",
       "    </tr>\n",
       "    <tr>\n",
       "      <th>2</th>\n",
       "      <td>g107</td>\n",
       "      <td>0</td>\n",
       "      <td>45.0</td>\n",
       "      <td>0</td>\n",
       "    </tr>\n",
       "    <tr>\n",
       "      <th>3</th>\n",
       "      <td>a457</td>\n",
       "      <td>0</td>\n",
       "      <td>45.0</td>\n",
       "      <td>0</td>\n",
       "    </tr>\n",
       "    <tr>\n",
       "      <th>4</th>\n",
       "      <td>c819</td>\n",
       "      <td>0</td>\n",
       "      <td>45.0</td>\n",
       "      <td>0</td>\n",
       "    </tr>\n",
       "  </tbody>\n",
       "</table>\n",
       "</div>"
      ],
      "text/plain": [
       "  Mouse ID  Timepoint  Tumor Volume (mm3)  Metastatic Sites\n",
       "0     b128          0                45.0                 0\n",
       "1     f932          0                45.0                 0\n",
       "2     g107          0                45.0                 0\n",
       "3     a457          0                45.0                 0\n",
       "4     c819          0                45.0                 0"
      ]
     },
     "execution_count": 299,
     "metadata": {},
     "output_type": "execute_result"
    }
   ],
   "source": [
    "trial_df.head()"
   ]
  },
  {
   "cell_type": "code",
   "execution_count": 300,
   "metadata": {},
   "outputs": [
    {
     "data": {
      "text/html": [
       "<div>\n",
       "<style>\n",
       "    .dataframe thead tr:only-child th {\n",
       "        text-align: right;\n",
       "    }\n",
       "\n",
       "    .dataframe thead th {\n",
       "        text-align: left;\n",
       "    }\n",
       "\n",
       "    .dataframe tbody tr th {\n",
       "        vertical-align: top;\n",
       "    }\n",
       "</style>\n",
       "<table border=\"1\" class=\"dataframe\">\n",
       "  <thead>\n",
       "    <tr style=\"text-align: right;\">\n",
       "      <th></th>\n",
       "      <th>Mouse ID</th>\n",
       "      <th>Drug</th>\n",
       "    </tr>\n",
       "  </thead>\n",
       "  <tbody>\n",
       "    <tr>\n",
       "      <th>0</th>\n",
       "      <td>f234</td>\n",
       "      <td>Stelasyn</td>\n",
       "    </tr>\n",
       "    <tr>\n",
       "      <th>1</th>\n",
       "      <td>x402</td>\n",
       "      <td>Stelasyn</td>\n",
       "    </tr>\n",
       "    <tr>\n",
       "      <th>2</th>\n",
       "      <td>a492</td>\n",
       "      <td>Stelasyn</td>\n",
       "    </tr>\n",
       "    <tr>\n",
       "      <th>3</th>\n",
       "      <td>w540</td>\n",
       "      <td>Stelasyn</td>\n",
       "    </tr>\n",
       "    <tr>\n",
       "      <th>4</th>\n",
       "      <td>v764</td>\n",
       "      <td>Stelasyn</td>\n",
       "    </tr>\n",
       "  </tbody>\n",
       "</table>\n",
       "</div>"
      ],
      "text/plain": [
       "  Mouse ID      Drug\n",
       "0     f234  Stelasyn\n",
       "1     x402  Stelasyn\n",
       "2     a492  Stelasyn\n",
       "3     w540  Stelasyn\n",
       "4     v764  Stelasyn"
      ]
     },
     "execution_count": 300,
     "metadata": {},
     "output_type": "execute_result"
    }
   ],
   "source": [
    "mouse_df.head()\n"
   ]
  },
  {
   "cell_type": "code",
   "execution_count": 301,
   "metadata": {},
   "outputs": [
    {
     "name": "stdout",
     "output_type": "stream",
     "text": [
      "<class 'pandas.core.frame.DataFrame'>\n",
      "Int64Index: 777 entries, 0 to 776\n",
      "Data columns (total 5 columns):\n",
      "Mouse ID              777 non-null object\n",
      "Timepoint             777 non-null int64\n",
      "Tumor Volume (mm3)    777 non-null float64\n",
      "Metastatic Sites      777 non-null int64\n",
      "Drug                  777 non-null object\n",
      "dtypes: float64(1), int64(2), object(2)\n",
      "memory usage: 36.4+ KB\n"
     ]
    }
   ],
   "source": [
    "# Select Data only for the four drugs that we want to analyze, \n",
    "# Combine the two data frames to get a single data frame with only the 4 drugs' data \n",
    "four_drugs_df = mouse_df.loc[(mouse_df['Drug']=='Capomulin') | (mouse_df['Drug']=='Infubinol') | (mouse_df['Drug']=='Ketapril') | (mouse_df['Drug']=='Placebo'), :]\n",
    "full_df = pd.merge(trial_df, four_drugs_df, on='Mouse ID')\n",
    "full_df.info()"
   ]
  },
  {
   "cell_type": "markdown",
   "metadata": {},
   "source": [
    "## Plots that show how the tumor volume changes over time for each treatment.\n",
    "\n"
   ]
  },
  {
   "cell_type": "code",
   "execution_count": 302,
   "metadata": {},
   "outputs": [
    {
     "data": {
      "text/plain": [
       "array(['Capomulin', 'Ketapril', 'Infubinol', 'Placebo'], dtype=object)"
      ]
     },
     "execution_count": 302,
     "metadata": {},
     "output_type": "execute_result"
    }
   ],
   "source": [
    "drugs = full_df['Drug'].unique()\n",
    "drugs"
   ]
  },
  {
   "cell_type": "markdown",
   "metadata": {},
   "source": [
    "### Scatter plots - one for each Drug compared against each other show how the Tumor Volume of all the mice for that drug progress over time"
   ]
  },
  {
   "cell_type": "code",
   "execution_count": 306,
   "metadata": {},
   "outputs": [
    {
     "data": {
      "image/png": "[encoded data removed]",
      "text/plain": [
       "<matplotlib.figure.Figure at 0x1a1ca35748>"
      ]
     },
     "metadata": {},
     "output_type": "display_data"
    }
   ],
   "source": [
    "# Create subplots to plot data for each of the 4 drugs to compare\n",
    "fig, axes = plt.subplots(1, 4, figsize=(12,5), sharex=True, sharey=True)\n",
    "\n",
    "# List of colors for the subplots\n",
    "colors = ['r', 'b', 'g', 'y']\n",
    "\n",
    "# loop through the list of Drugs get the data set for each drug and plor it on a separate axes\n",
    "for i in range(len(drugs)) :\n",
    "    drug_df = full_df[full_df['Drug']==drugs[i]]\n",
    "    axes[i].scatter(x=drug_df['Timepoint'], y=drug_df['Tumor Volume (mm3)'], c=colors[i])\n",
    "    axes[i].set_title(drugs[i])\n",
    "    axes[i].set_xlabel(\"Timepoint\")\n",
    "    axes[i].set_ylabel(\"Tumor Volume (mm3)\")\n",
    "plt.tight_layout()\n",
    "plt.show()"
   ]
  },
  {
   "cell_type": "markdown",
   "metadata": {},
   "source": [
    "### Scatter plot showing one plot with data for all drugs"
   ]
  },
  {
   "cell_type": "code",
   "execution_count": 307,
   "metadata": {},
   "outputs": [
    {
     "data": {
      "text/html": [
       "<div>\n",
       "<style>\n",
       "    .dataframe thead tr:only-child th {\n",
       "        text-align: right;\n",
       "    }\n",
       "\n",
       "    .dataframe thead th {\n",
       "        text-align: left;\n",
       "    }\n",
       "\n",
       "    .dataframe tbody tr th {\n",
       "        vertical-align: top;\n",
       "    }\n",
       "</style>\n",
       "<table border=\"1\" class=\"dataframe\">\n",
       "  <thead>\n",
       "    <tr style=\"text-align: right;\">\n",
       "      <th></th>\n",
       "      <th>Drug</th>\n",
       "      <th>Timepoint</th>\n",
       "      <th>Tumor Volume (mm3)</th>\n",
       "      <th>Metastatic Sites</th>\n",
       "      <th>Metastatic Sites SEM</th>\n",
       "      <th>Tumor Volume (mm3) SEM</th>\n",
       "    </tr>\n",
       "  </thead>\n",
       "  <tbody>\n",
       "    <tr>\n",
       "      <th>0</th>\n",
       "      <td>Capomulin</td>\n",
       "      <td>0</td>\n",
       "      <td>45.000000</td>\n",
       "      <td>0.000000</td>\n",
       "      <td>0.000000</td>\n",
       "      <td>0.000000</td>\n",
       "    </tr>\n",
       "    <tr>\n",
       "      <th>1</th>\n",
       "      <td>Capomulin</td>\n",
       "      <td>5</td>\n",
       "      <td>44.266086</td>\n",
       "      <td>0.160000</td>\n",
       "      <td>0.074833</td>\n",
       "      <td>0.448593</td>\n",
       "    </tr>\n",
       "    <tr>\n",
       "      <th>2</th>\n",
       "      <td>Capomulin</td>\n",
       "      <td>10</td>\n",
       "      <td>43.084291</td>\n",
       "      <td>0.320000</td>\n",
       "      <td>0.125433</td>\n",
       "      <td>0.702684</td>\n",
       "    </tr>\n",
       "    <tr>\n",
       "      <th>3</th>\n",
       "      <td>Capomulin</td>\n",
       "      <td>15</td>\n",
       "      <td>42.064317</td>\n",
       "      <td>0.375000</td>\n",
       "      <td>0.132048</td>\n",
       "      <td>0.838617</td>\n",
       "    </tr>\n",
       "    <tr>\n",
       "      <th>4</th>\n",
       "      <td>Capomulin</td>\n",
       "      <td>20</td>\n",
       "      <td>40.716325</td>\n",
       "      <td>0.652174</td>\n",
       "      <td>0.161621</td>\n",
       "      <td>0.909731</td>\n",
       "    </tr>\n",
       "  </tbody>\n",
       "</table>\n",
       "</div>"
      ],
      "text/plain": [
       "        Drug  Timepoint  Tumor Volume (mm3)  Metastatic Sites  \\\n",
       "0  Capomulin          0           45.000000          0.000000   \n",
       "1  Capomulin          5           44.266086          0.160000   \n",
       "2  Capomulin         10           43.084291          0.320000   \n",
       "3  Capomulin         15           42.064317          0.375000   \n",
       "4  Capomulin         20           40.716325          0.652174   \n",
       "\n",
       "   Metastatic Sites SEM  Tumor Volume (mm3) SEM  \n",
       "0              0.000000                0.000000  \n",
       "1              0.074833                0.448593  \n",
       "2              0.125433                0.702684  \n",
       "3              0.132048                0.838617  \n",
       "4              0.161621                0.909731  "
      ]
     },
     "execution_count": 307,
     "metadata": {},
     "output_type": "execute_result"
    }
   ],
   "source": [
    "# Group the data for mice and get the mean values for the results to compare\n",
    "full_grp_df = full_df.groupby(['Drug','Timepoint'], as_index=False).mean()\n",
    "\n",
    "# Calculate the errorbar values using the sem() function.\n",
    "sem_grp_df = full_df.groupby(['Drug','Timepoint']).sem()\n",
    "sem_grp_df.reset_index(inplace=True)\n",
    "# Drop unwanted columns as we only want the errorbar values. Rename the errorbar values\n",
    "sem_grp_df.drop(['Mouse ID', 'Timepoint', 'Drug'], axis=1, inplace=True)\n",
    "sem_grp_df.rename(columns={'Tumor Volume (mm3)': 'Tumor Volume (mm3) SEM',\n",
    "                          'Metastatic Sites': 'Metastatic Sites SEM'}, inplace=True)\n",
    "\n",
    "# Merge the errorbar values with the original data to get a new table with all values\n",
    "sem_grp_df = pd.merge(full_grp_df, sem_grp_df, left_index=True, right_index=True)\n",
    "sem_grp_df.head()"
   ]
  },
  {
   "cell_type": "code",
   "execution_count": 308,
   "metadata": {},
   "outputs": [
    {
     "data": {
      "image/png": "[encoded data removed]",
      "text/plain": [
       "<matplotlib.figure.Figure at 0x1a1b44b908>"
      ]
     },
     "metadata": {},
     "output_type": "display_data"
    }
   ],
   "source": [
    "# Setting up the plot\n",
    "fig, ax = plt.subplots()\n",
    "\n",
    "# loop through the drugs and plor the scatter graph and error bars for each drug\n",
    "for i in range(len(drugs)) :\n",
    "    drug_sem_df = sem_grp_df[sem_grp_df['Drug']==drugs[i]]\n",
    "    ax.scatter(x=drug_sem_df['Timepoint'], y=drug_sem_df['Tumor Volume (mm3)'])\n",
    "    ax.errorbar(drug_sem_df['Timepoint'], drug_sem_df['Tumor Volume (mm3)'], drug_sem_df['Tumor Volume (mm3) SEM'], fmt=\"o\")\n",
    "\n",
    "# Set the other attributes for the plot\n",
    "ax.legend(drugs, loc='center left', bbox_to_anchor=(1.0, 0.5))\n",
    "ax.set_title('Tumor Volume over Tme')\n",
    "ax.set_xlabel(\"Timepoint\")\n",
    "ax.set_ylabel(\"Tumor Volume (mm3)\")\n",
    "plt.show()"
   ]
  },
  {
   "cell_type": "markdown",
   "metadata": {},
   "source": [
    "### Line graph showing one plot with data for all drugs"
   ]
  },
  {
   "cell_type": "code",
   "execution_count": 309,
   "metadata": {},
   "outputs": [
    {
     "data": {
      "text/html": [
       "<div>\n",
       "<style>\n",
       "    .dataframe thead tr:only-child th {\n",
       "        text-align: right;\n",
       "    }\n",
       "\n",
       "    .dataframe thead th {\n",
       "        text-align: left;\n",
       "    }\n",
       "\n",
       "    .dataframe tbody tr th {\n",
       "        vertical-align: top;\n",
       "    }\n",
       "</style>\n",
       "<table border=\"1\" class=\"dataframe\">\n",
       "  <thead>\n",
       "    <tr style=\"text-align: right;\">\n",
       "      <th>Drug</th>\n",
       "      <th>Capomulin</th>\n",
       "      <th>Infubinol</th>\n",
       "      <th>Ketapril</th>\n",
       "      <th>Placebo</th>\n",
       "    </tr>\n",
       "    <tr>\n",
       "      <th>Timepoint</th>\n",
       "      <th></th>\n",
       "      <th></th>\n",
       "      <th></th>\n",
       "      <th></th>\n",
       "    </tr>\n",
       "  </thead>\n",
       "  <tbody>\n",
       "    <tr>\n",
       "      <th>0</th>\n",
       "      <td>45.000000</td>\n",
       "      <td>45.000000</td>\n",
       "      <td>45.000000</td>\n",
       "      <td>45.000000</td>\n",
       "    </tr>\n",
       "    <tr>\n",
       "      <th>5</th>\n",
       "      <td>44.266086</td>\n",
       "      <td>47.062001</td>\n",
       "      <td>47.389175</td>\n",
       "      <td>47.125589</td>\n",
       "    </tr>\n",
       "    <tr>\n",
       "      <th>10</th>\n",
       "      <td>43.084291</td>\n",
       "      <td>49.403909</td>\n",
       "      <td>49.582269</td>\n",
       "      <td>49.423329</td>\n",
       "    </tr>\n",
       "    <tr>\n",
       "      <th>15</th>\n",
       "      <td>42.064317</td>\n",
       "      <td>51.296397</td>\n",
       "      <td>52.399974</td>\n",
       "      <td>51.359742</td>\n",
       "    </tr>\n",
       "    <tr>\n",
       "      <th>20</th>\n",
       "      <td>40.716325</td>\n",
       "      <td>53.197691</td>\n",
       "      <td>54.920935</td>\n",
       "      <td>54.364417</td>\n",
       "    </tr>\n",
       "    <tr>\n",
       "      <th>25</th>\n",
       "      <td>39.939528</td>\n",
       "      <td>55.715252</td>\n",
       "      <td>57.678982</td>\n",
       "      <td>57.482574</td>\n",
       "    </tr>\n",
       "    <tr>\n",
       "      <th>30</th>\n",
       "      <td>38.769339</td>\n",
       "      <td>58.299397</td>\n",
       "      <td>60.994507</td>\n",
       "      <td>59.809063</td>\n",
       "    </tr>\n",
       "    <tr>\n",
       "      <th>35</th>\n",
       "      <td>37.816839</td>\n",
       "      <td>60.742461</td>\n",
       "      <td>63.371686</td>\n",
       "      <td>62.420615</td>\n",
       "    </tr>\n",
       "    <tr>\n",
       "      <th>40</th>\n",
       "      <td>36.958001</td>\n",
       "      <td>63.162824</td>\n",
       "      <td>66.068580</td>\n",
       "      <td>65.052675</td>\n",
       "    </tr>\n",
       "    <tr>\n",
       "      <th>45</th>\n",
       "      <td>36.236114</td>\n",
       "      <td>65.755562</td>\n",
       "      <td>70.662958</td>\n",
       "      <td>68.084082</td>\n",
       "    </tr>\n",
       "  </tbody>\n",
       "</table>\n",
       "</div>"
      ],
      "text/plain": [
       "Drug       Capomulin  Infubinol   Ketapril    Placebo\n",
       "Timepoint                                            \n",
       "0          45.000000  45.000000  45.000000  45.000000\n",
       "5          44.266086  47.062001  47.389175  47.125589\n",
       "10         43.084291  49.403909  49.582269  49.423329\n",
       "15         42.064317  51.296397  52.399974  51.359742\n",
       "20         40.716325  53.197691  54.920935  54.364417\n",
       "25         39.939528  55.715252  57.678982  57.482574\n",
       "30         38.769339  58.299397  60.994507  59.809063\n",
       "35         37.816839  60.742461  63.371686  62.420615\n",
       "40         36.958001  63.162824  66.068580  65.052675\n",
       "45         36.236114  65.755562  70.662958  68.084082"
      ]
     },
     "execution_count": 309,
     "metadata": {},
     "output_type": "execute_result"
    }
   ],
   "source": [
    "# Create a pivot table for the Tumor Volume data for all Drugs for all Timepoints\n",
    "drug_pivot_df = full_grp_df.pivot(index='Timepoint', columns='Drug',values='Tumor Volume (mm3)')\n",
    "drug_pivot_df"
   ]
  },
  {
   "cell_type": "code",
   "execution_count": 310,
   "metadata": {},
   "outputs": [
    {
     "data": {
      "image/png": "[encoded data removed]",
      "text/plain": [
       "<matplotlib.figure.Figure at 0x1a1b4bb390>"
      ]
     },
     "metadata": {},
     "output_type": "display_data"
    }
   ],
   "source": [
    "# Create a line graph from the pivot table to show the progression\n",
    "g =drug_pivot_df.plot(kind='line', title=\"Tumor Volume over Time\")\n",
    "g.set_ylabel('Tumor Volume (mm3)')\n",
    "\n",
    "# Set the markers\n",
    "drug_markers =  ['x','o','v','*']\n",
    "for i, line in enumerate(g.get_lines()):\n",
    "    line.set_marker(drug_markers[i])\n",
    "    \n",
    "# Set the legend to be outside the plot\n",
    "g.legend(loc='center left', bbox_to_anchor=(1.0, 0.5))\n",
    "plt.show()"
   ]
  },
  {
   "cell_type": "markdown",
   "metadata": {},
   "source": [
    "## Plots that shows how the number of metastatic (cancer spreading) sites changes over time for each treatment.\n"
   ]
  },
  {
   "cell_type": "markdown",
   "metadata": {},
   "source": [
    "### Scatter Plot showing the change in Metastatic Sites over Time"
   ]
  },
  {
   "cell_type": "code",
   "execution_count": 311,
   "metadata": {},
   "outputs": [
    {
     "data": {
      "image/png": "[encoded data removed]",
      "text/plain": [
       "<matplotlib.figure.Figure at 0x1a1b555080>"
      ]
     },
     "metadata": {},
     "output_type": "display_data"
    }
   ],
   "source": [
    "# Setting up the plot\n",
    "fig, ax = plt.subplots()\n",
    "\n",
    "# loop through the drugs and plor the scatter graph and error bars for each drug\n",
    "for i in range(len(drugs)) :\n",
    "    drug_sem_df = sem_grp_df[sem_grp_df['Drug']==drugs[i]]\n",
    "    ax.scatter(x=drug_sem_df['Timepoint'], y=drug_sem_df['Metastatic Sites'])\n",
    "    ax.errorbar(drug_sem_df['Timepoint'], drug_sem_df['Metastatic Sites'], drug_sem_df['Metastatic Sites SEM'], fmt=\"o\")\n",
    "\n",
    "# Set the other attributes for the plot\n",
    "ax.legend(drugs, loc='center left', bbox_to_anchor=(1.0, 0.5))\n",
    "ax.set_title('Metastatic Sites over Tme')\n",
    "ax.set_xlabel(\"Timepoint\")\n",
    "ax.set_ylabel(\"Metastatic Sites\")\n",
    "plt.show()"
   ]
  },
  {
   "cell_type": "markdown",
   "metadata": {},
   "source": [
    "### Line Graph showing the change in Metastatic Sites over Time"
   ]
  },
  {
   "cell_type": "code",
   "execution_count": 312,
   "metadata": {},
   "outputs": [
    {
     "data": {
      "text/html": [
       "<div>\n",
       "<style>\n",
       "    .dataframe thead tr:only-child th {\n",
       "        text-align: right;\n",
       "    }\n",
       "\n",
       "    .dataframe thead th {\n",
       "        text-align: left;\n",
       "    }\n",
       "\n",
       "    .dataframe tbody tr th {\n",
       "        vertical-align: top;\n",
       "    }\n",
       "</style>\n",
       "<table border=\"1\" class=\"dataframe\">\n",
       "  <thead>\n",
       "    <tr style=\"text-align: right;\">\n",
       "      <th>Drug</th>\n",
       "      <th>Capomulin</th>\n",
       "      <th>Infubinol</th>\n",
       "      <th>Ketapril</th>\n",
       "      <th>Placebo</th>\n",
       "    </tr>\n",
       "    <tr>\n",
       "      <th>Timepoint</th>\n",
       "      <th></th>\n",
       "      <th></th>\n",
       "      <th></th>\n",
       "      <th></th>\n",
       "    </tr>\n",
       "  </thead>\n",
       "  <tbody>\n",
       "    <tr>\n",
       "      <th>0</th>\n",
       "      <td>0.000000</td>\n",
       "      <td>0.000000</td>\n",
       "      <td>0.000000</td>\n",
       "      <td>0.000000</td>\n",
       "    </tr>\n",
       "    <tr>\n",
       "      <th>5</th>\n",
       "      <td>0.160000</td>\n",
       "      <td>0.280000</td>\n",
       "      <td>0.304348</td>\n",
       "      <td>0.375000</td>\n",
       "    </tr>\n",
       "    <tr>\n",
       "      <th>10</th>\n",
       "      <td>0.320000</td>\n",
       "      <td>0.666667</td>\n",
       "      <td>0.590909</td>\n",
       "      <td>0.833333</td>\n",
       "    </tr>\n",
       "    <tr>\n",
       "      <th>15</th>\n",
       "      <td>0.375000</td>\n",
       "      <td>0.904762</td>\n",
       "      <td>0.842105</td>\n",
       "      <td>1.250000</td>\n",
       "    </tr>\n",
       "    <tr>\n",
       "      <th>20</th>\n",
       "      <td>0.652174</td>\n",
       "      <td>1.050000</td>\n",
       "      <td>1.210526</td>\n",
       "      <td>1.526316</td>\n",
       "    </tr>\n",
       "    <tr>\n",
       "      <th>25</th>\n",
       "      <td>0.818182</td>\n",
       "      <td>1.277778</td>\n",
       "      <td>1.631579</td>\n",
       "      <td>1.941176</td>\n",
       "    </tr>\n",
       "    <tr>\n",
       "      <th>30</th>\n",
       "      <td>1.090909</td>\n",
       "      <td>1.588235</td>\n",
       "      <td>2.055556</td>\n",
       "      <td>2.266667</td>\n",
       "    </tr>\n",
       "    <tr>\n",
       "      <th>35</th>\n",
       "      <td>1.181818</td>\n",
       "      <td>1.666667</td>\n",
       "      <td>2.294118</td>\n",
       "      <td>2.642857</td>\n",
       "    </tr>\n",
       "    <tr>\n",
       "      <th>40</th>\n",
       "      <td>1.380952</td>\n",
       "      <td>2.100000</td>\n",
       "      <td>2.733333</td>\n",
       "      <td>3.166667</td>\n",
       "    </tr>\n",
       "    <tr>\n",
       "      <th>45</th>\n",
       "      <td>1.476190</td>\n",
       "      <td>2.111111</td>\n",
       "      <td>3.363636</td>\n",
       "      <td>3.272727</td>\n",
       "    </tr>\n",
       "  </tbody>\n",
       "</table>\n",
       "</div>"
      ],
      "text/plain": [
       "Drug       Capomulin  Infubinol  Ketapril   Placebo\n",
       "Timepoint                                          \n",
       "0           0.000000   0.000000  0.000000  0.000000\n",
       "5           0.160000   0.280000  0.304348  0.375000\n",
       "10          0.320000   0.666667  0.590909  0.833333\n",
       "15          0.375000   0.904762  0.842105  1.250000\n",
       "20          0.652174   1.050000  1.210526  1.526316\n",
       "25          0.818182   1.277778  1.631579  1.941176\n",
       "30          1.090909   1.588235  2.055556  2.266667\n",
       "35          1.181818   1.666667  2.294118  2.642857\n",
       "40          1.380952   2.100000  2.733333  3.166667\n",
       "45          1.476190   2.111111  3.363636  3.272727"
      ]
     },
     "execution_count": 312,
     "metadata": {},
     "output_type": "execute_result"
    }
   ],
   "source": [
    "# Create a pivot table for the Metastatic Sites data\n",
    "drug_pivot_df = full_grp_df.pivot(index='Timepoint', columns='Drug',values='Metastatic Sites')\n",
    "drug_pivot_df"
   ]
  },
  {
   "cell_type": "code",
   "execution_count": 313,
   "metadata": {},
   "outputs": [
    {
     "data": {
      "image/png": "[encoded data removed]",
      "text/plain": [
       "<matplotlib.figure.Figure at 0x1171e2a20>"
      ]
     },
     "metadata": {},
     "output_type": "display_data"
    }
   ],
   "source": [
    "# Plot the line graph\n",
    "g =drug_pivot_df.plot(kind='line', title=\"Metastatic Site over Time\")\n",
    "g.set_ylabel('Metastatic Sites')\n",
    "\n",
    "# Set the markers\n",
    "for i, line in enumerate(g.get_lines()):\n",
    "    line.set_marker(my_markers[i])\n",
    "    \n",
    "# Set the legend to be outside the plot\n",
    "g.legend(loc='center left', bbox_to_anchor=(1.0, 0.5))\n",
    "plt.show()\n"
   ]
  },
  {
   "cell_type": "markdown",
   "metadata": {},
   "source": [
    "## Scatter plot that shows the number of mice still alive through the course of treatment (Survival Rate)\n"
   ]
  },
  {
   "cell_type": "code",
   "execution_count": 314,
   "metadata": {},
   "outputs": [
    {
     "data": {
      "image/png": "[encoded data removed]",
      "text/plain": [
       "<matplotlib.figure.Figure at 0x1174d89b0>"
      ]
     },
     "metadata": {},
     "output_type": "display_data"
    }
   ],
   "source": [
    "# Ge the count of mice at each timepoint for each drug\n",
    "alive_grp_df = full_df.groupby(['Drug','Timepoint'], as_index=False).count()[['Drug','Timepoint', 'Mouse ID']]\n",
    "\n",
    "# Setting up the plot\n",
    "fig, ax = plt.subplots()\n",
    "\n",
    "# loop through the drugs and plor the scatter graph and error bars for each drug\n",
    "for i in range(len(drugs)) :\n",
    "    drug_alive_df = alive_grp_df[alive_grp_df['Drug']==drugs[i]]\n",
    "    \n",
    "    ax.scatter(x=drug_alive_df['Timepoint'], y=drug_alive_df['Mouse ID'])\n",
    "\n",
    "# Set the other attributes for the plot\n",
    "ax.legend(drugs, loc='center left', bbox_to_anchor=(1.0, 0.5))\n",
    "ax.set_title('Survival Rate of Mice')\n",
    "ax.set_xlabel(\"Timepoint\")\n",
    "ax.set_ylabel(\"Number of Mice\")\n",
    "plt.show()"
   ]
  },
  {
   "cell_type": "markdown",
   "metadata": {},
   "source": [
    "### Line graph showing the Survival Rate of mice"
   ]
  },
  {
   "cell_type": "code",
   "execution_count": 315,
   "metadata": {},
   "outputs": [
    {
     "data": {
      "text/html": [
       "<div>\n",
       "<style>\n",
       "    .dataframe thead tr:only-child th {\n",
       "        text-align: right;\n",
       "    }\n",
       "\n",
       "    .dataframe thead th {\n",
       "        text-align: left;\n",
       "    }\n",
       "\n",
       "    .dataframe tbody tr th {\n",
       "        vertical-align: top;\n",
       "    }\n",
       "</style>\n",
       "<table border=\"1\" class=\"dataframe\">\n",
       "  <thead>\n",
       "    <tr style=\"text-align: right;\">\n",
       "      <th>Drug</th>\n",
       "      <th>Capomulin</th>\n",
       "      <th>Infubinol</th>\n",
       "      <th>Ketapril</th>\n",
       "      <th>Placebo</th>\n",
       "    </tr>\n",
       "    <tr>\n",
       "      <th>Timepoint</th>\n",
       "      <th></th>\n",
       "      <th></th>\n",
       "      <th></th>\n",
       "      <th></th>\n",
       "    </tr>\n",
       "  </thead>\n",
       "  <tbody>\n",
       "    <tr>\n",
       "      <th>0</th>\n",
       "      <td>25</td>\n",
       "      <td>25</td>\n",
       "      <td>25</td>\n",
       "      <td>25</td>\n",
       "    </tr>\n",
       "    <tr>\n",
       "      <th>5</th>\n",
       "      <td>25</td>\n",
       "      <td>25</td>\n",
       "      <td>23</td>\n",
       "      <td>24</td>\n",
       "    </tr>\n",
       "    <tr>\n",
       "      <th>10</th>\n",
       "      <td>25</td>\n",
       "      <td>21</td>\n",
       "      <td>22</td>\n",
       "      <td>24</td>\n",
       "    </tr>\n",
       "    <tr>\n",
       "      <th>15</th>\n",
       "      <td>24</td>\n",
       "      <td>21</td>\n",
       "      <td>19</td>\n",
       "      <td>20</td>\n",
       "    </tr>\n",
       "    <tr>\n",
       "      <th>20</th>\n",
       "      <td>23</td>\n",
       "      <td>20</td>\n",
       "      <td>19</td>\n",
       "      <td>19</td>\n",
       "    </tr>\n",
       "    <tr>\n",
       "      <th>25</th>\n",
       "      <td>22</td>\n",
       "      <td>18</td>\n",
       "      <td>19</td>\n",
       "      <td>17</td>\n",
       "    </tr>\n",
       "    <tr>\n",
       "      <th>30</th>\n",
       "      <td>22</td>\n",
       "      <td>17</td>\n",
       "      <td>18</td>\n",
       "      <td>15</td>\n",
       "    </tr>\n",
       "    <tr>\n",
       "      <th>35</th>\n",
       "      <td>22</td>\n",
       "      <td>12</td>\n",
       "      <td>17</td>\n",
       "      <td>14</td>\n",
       "    </tr>\n",
       "    <tr>\n",
       "      <th>40</th>\n",
       "      <td>21</td>\n",
       "      <td>10</td>\n",
       "      <td>15</td>\n",
       "      <td>12</td>\n",
       "    </tr>\n",
       "    <tr>\n",
       "      <th>45</th>\n",
       "      <td>21</td>\n",
       "      <td>9</td>\n",
       "      <td>11</td>\n",
       "      <td>11</td>\n",
       "    </tr>\n",
       "  </tbody>\n",
       "</table>\n",
       "</div>"
      ],
      "text/plain": [
       "Drug       Capomulin  Infubinol  Ketapril  Placebo\n",
       "Timepoint                                         \n",
       "0                 25         25        25       25\n",
       "5                 25         25        23       24\n",
       "10                25         21        22       24\n",
       "15                24         21        19       20\n",
       "20                23         20        19       19\n",
       "25                22         18        19       17\n",
       "30                22         17        18       15\n",
       "35                22         12        17       14\n",
       "40                21         10        15       12\n",
       "45                21          9        11       11"
      ]
     },
     "execution_count": 315,
     "metadata": {},
     "output_type": "execute_result"
    }
   ],
   "source": [
    "# Create a pivot table for the Survival Rate\n",
    "drug_pivot_df = alive_grp_df.pivot(index='Timepoint', columns='Drug',values='Mouse ID')\n",
    "drug_pivot_df"
   ]
  },
  {
   "cell_type": "code",
   "execution_count": 316,
   "metadata": {},
   "outputs": [
    {
     "data": {
      "image/png": "[encoded data removed]",
      "text/plain": [
       "<matplotlib.figure.Figure at 0x1a1cb1a9e8>"
      ]
     },
     "metadata": {},
     "output_type": "display_data"
    }
   ],
   "source": [
    "# Plot the line graph\n",
    "g =drug_pivot_df.plot(kind='line', title=\"Survival Rate of mice\")\n",
    "g.set_ylabel('Mice Count')\n",
    "\n",
    "# Set the markers\n",
    "for i, line in enumerate(g.get_lines()):\n",
    "    line.set_marker(my_markers[i])\n",
    "    \n",
    "# Set the legend to be outside the plot\n",
    "g.legend(loc='center left', bbox_to_anchor=(1.0, 0.5))\n",
    "plt.show()\n",
    "\n"
   ]
  },
  {
   "cell_type": "markdown",
   "metadata": {},
   "source": [
    "## Creating a bar graph that compares the total % tumor volume change for each drug across the full 45 days."
   ]
  },
  {
   "cell_type": "code",
   "execution_count": 317,
   "metadata": {
    "collapsed": true
   },
   "outputs": [],
   "source": [
    "# A function that takes the container of the bar plot and the axes and \n",
    "# adds the Y values as labels to the bars\n",
    "def autolabel(rects, ax):\n",
    "    # Get y-axis height to calculate label position from.\n",
    "    (y_bottom, y_top) = ax.get_ylim()\n",
    "    y_height = y_top - y_bottom\n",
    "\n",
    "    for rect in rects:\n",
    "        height = rect.get_height()\n",
    "        label_position = height + (y_height * 0.01)\n",
    "\n",
    "        ax.text(rect.get_x() + rect.get_width()/2., label_position,\n",
    "                '%d' % int(height),\n",
    "                ha='center', va='bottom')\n"
   ]
  },
  {
   "cell_type": "code",
   "execution_count": 331,
   "metadata": {},
   "outputs": [
    {
     "data": {
      "image/png": "[encoded data removed]",
      "text/plain": [
       "<matplotlib.figure.Figure at 0x10b66b780>"
      ]
     },
     "metadata": {},
     "output_type": "display_data"
    }
   ],
   "source": [
    "# Create an empty dictionary to store the % Volume change for each drug\n",
    "changes = {}\n",
    "\n",
    "\n",
    "# go through the full table for each drug we want and get the Tumor Volume at \n",
    "# Timepoints 0 and 45. Then calculate the % Volume change\n",
    "for drug in drugs :\n",
    "    start_vol = full_grp_df.loc[(full_grp_df['Drug'] == drug) & (full_grp_df['Timepoint'] == 0), ['Tumor Volume (mm3)']]\n",
    "    end_vol = full_grp_df.loc[(full_grp_df['Drug'] == drug) & (full_grp_df['Timepoint'] == 45), ['Tumor Volume (mm3)']]\n",
    "    \n",
    "    percent_change = ((end_vol.iloc[0,0]-start_vol.iloc[0,0])/start_vol.iloc[0,0])*100\n",
    "    changes[drug]=percent_change\n",
    "\n",
    "g = plt.bar(x=[1,2,3,4], height=list(changes.values()), align='center', tick_label=list(changes.keys()),\n",
    "             color=['g' if v >=0 else 'r' for v in changes.values()])\n",
    "\n",
    "# set the Y limits\n",
    "ymin = min(list(changes.values()))\n",
    "ymax = max(list(changes.values()))\n",
    "plt.ylim(-25,70)\n",
    "\n",
    "# set the titles\n",
    "plt.title(\"Total % Volume Change across 45 days\")\n",
    "plt.xlabel(\"Drug\")\n",
    "plt.ylabel(\"% Volume Change\")\n",
    "\n",
    "# Set the labels on the bars\n",
    "autolabel(g, plt.axes())\n",
    "\n",
    "#Ignore the warning \n",
    "warnings.filterwarnings('ignore')\n",
    "\n",
    "plt.show()\n"
   ]
  },
  {
   "cell_type": "code",
   "execution_count": null,
   "metadata": {
    "collapsed": true
   },
   "outputs": [],
   "source": []
  },
  {
   "cell_type": "code",
   "execution_count": null,
   "metadata": {
    "collapsed": true
   },
   "outputs": [],
   "source": []
  }
 ],
 "metadata": {
  "kernelspec": {
   "display_name": "Python 3",
   "language": "python",
   "name": "python3"
  },
  "language_info": {
   "codemirror_mode": {
    "name": "ipython",
    "version": 3
   },
   "file_extension": ".py",
   "mimetype": "text/x-python",
   "name": "python",
   "nbconvert_exporter": "python",
   "pygments_lexer": "ipython3",
   "version": "3.6.2"
  }
 },
 "nbformat": 4,
 "nbformat_minor": 2
}
